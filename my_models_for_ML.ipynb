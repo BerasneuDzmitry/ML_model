{
 "cells": [
  {
   "cell_type": "code",
   "execution_count": 1,
   "metadata": {},
   "outputs": [
    {
     "name": "stdout",
     "output_type": "stream",
     "text": [
      "[[1 2 3]\n",
      " [4 5 6]\n",
      " [7 8 9]]\n"
     ]
    }
   ],
   "source": [
    "'''ОЧЕНЬ ИНТЕРЕСНЫЙ УРОК ПО ОБУЧЕНИЮ СОБСТВЕННОЙ МОДЕЛИ'''\n",
    "\n",
    "#https://www.youtube.com/watch?v=zqcIjDLxZIM Основы Python для Data Science от Skillbox\n",
    "\n",
    "\n",
    "#https://pjreddie.com/media/files/mnist_train.csv датасет для тренировки модели данных\n",
    "#https://pjreddie.com/media/files/mnist_test.csv датасет для тестирования долеи данных\n",
    "\n",
    "import numpy as np #импортируем модуль NumPy\n",
    "\n",
    "matrix = np.array([\n",
    "    [1, 2, 3],\n",
    "    [4, 5, 6],\n",
    "    [7, 8, 9]\n",
    "                  ])\n",
    "print(matrix)"
   ]
  },
  {
   "cell_type": "code",
   "execution_count": 2,
   "metadata": {},
   "outputs": [
    {
     "data": {
      "text/plain": [
       "<matplotlib.image.AxesImage at 0x27efa5fbfc8>"
      ]
     },
     "execution_count": 2,
     "metadata": {},
     "output_type": "execute_result"
    },
    {
     "data": {
      "image/png": "[encoded data removed]",
      "text/plain": [
       "<Figure size 432x288 with 1 Axes>"
      ]
     },
     "metadata": {
      "needs_background": "light"
     },
     "output_type": "display_data"
    }
   ],
   "source": [
    "import pandas as pd #импортируем модуль pandas\n",
    "test_data = pd.read_csv(\"mnist_test.csv\", header = None)\n",
    "\n",
    "import matplotlib.pyplot as plt #импортируем модуль matplotlib\n",
    "\n",
    "image_row = test_data.values[235, 1:] # берем любую строчку без первого столбца\n",
    "image_matrix = image_row.reshape(28, 28) # решейпим нашу цифровую строку в матрицу\n",
    "plt.imshow(image_matrix, cmap=\"Greys\") #рисуем нашу матрицу, cmap - color map"
   ]
  },
  {
   "cell_type": "code",
   "execution_count": 3,
   "metadata": {},
   "outputs": [
    {
     "name": "stdout",
     "output_type": "stream",
     "text": [
      "(10000, 785)\n",
      "(60000, 785)\n",
      "(60000, 784) (10000, 784)\n",
      "(60000,) (10000,)\n"
     ]
    }
   ],
   "source": [
    "train_data = pd.read_csv(\"mnist_train.csv\", header = None)\n",
    "test_data = pd.read_csv(\"mnist_test.csv\", header = None)\n",
    "print (test_data.shape) #1 столбец для label, все остальные (28*28 = 784) - код картинки\n",
    "print (train_data.shape)\n",
    "\n",
    "cols = [\"label\"]\n",
    "for i in range(784):\n",
    "    cols.append(\"px_{}\".format(i+1))\n",
    "\n",
    "train_data.columns = cols\n",
    "test_data.columns = cols\n",
    "\n",
    "from sklearn.neighbors import KNeighborsClassifier #импортируем модель по алгоритму БЛИЖАЙШИХ СОСЕДЕЙ\n",
    "train_values = train_data.values[:, 1:]\n",
    "test_values = test_data.values[:, 1:]\n",
    "\n",
    "train_label = train_data.values[:, 0]\n",
    "test_label = test_data.values[:, 0]\n",
    "\n",
    "print(train_values.shape, test_values.shape)\n",
    "print(train_label.shape, test_label.shape)"
   ]
  },
  {
   "cell_type": "code",
   "execution_count": 4,
   "metadata": {
    "scrolled": true
   },
   "outputs": [],
   "source": [
    "kn_classifier = KNeighborsClassifier(n_jobs=-1) #для работы на нескольких ядрах для ускорения\n",
    "kn_classifier = kn_classifier.fit(train_values, train_label) #тренируем модель по алгоритму БЛИЖАЙШИХ СОСЕДЕЙ"
   ]
  },
  {
   "cell_type": "code",
   "execution_count": 5,
   "metadata": {},
   "outputs": [
    {
     "name": "stdout",
     "output_type": "stream",
     "text": [
      "На рисунке представлена цифра 6\n"
     ]
    },
    {
     "data": {
      "text/plain": [
       "array([6], dtype=int64)"
      ]
     },
     "execution_count": 5,
     "metadata": {},
     "output_type": "execute_result"
    },
    {
     "data": {
      "image/png": "[encoded data removed]",
      "text/plain": [
       "<Figure size 432x288 with 1 Axes>"
      ]
     },
     "metadata": {
      "needs_background": "light"
     },
     "output_type": "display_data"
    }
   ],
   "source": [
    "test_id = 130 #любой номер числа, которое хотим проверить\n",
    "\n",
    "plt.imshow(test_values[test_id, :].reshape(28,28), cmap= \"Greys\")\n",
    "print(\"На рисунке представлена цифра {}\".format(test_label[test_id]))\n",
    "\n",
    "kn_classifier.predict(test_values[test_id, :].reshape(1, 784)) #обученная модель определяет число по картинке"
   ]
  },
  {
   "cell_type": "code",
   "execution_count": 6,
   "metadata": {},
   "outputs": [],
   "source": [
    "from sklearn.metrics import accuracy_score #импортируем модуль для проверки точности модели\n",
    "\n",
    "kn_predictions = kn_classifier.predict(test_values) #собираем ВСЕ предикты по нашей тестовой матрице"
   ]
  },
  {
   "cell_type": "code",
   "execution_count": 7,
   "metadata": {},
   "outputs": [
    {
     "data": {
      "text/plain": [
       "0.9688"
      ]
     },
     "execution_count": 7,
     "metadata": {},
     "output_type": "execute_result"
    }
   ],
   "source": [
    "accuracy_score(test_label, kn_predictions) #оцениваем точность нашей модели"
   ]
  },
  {
   "cell_type": "code",
   "execution_count": 8,
   "metadata": {},
   "outputs": [
    {
     "name": "stdout",
     "output_type": "stream",
     "text": [
      "Iteration 1, loss = 6.20325178\n",
      "Iteration 2, loss = 0.75114261\n",
      "Iteration 3, loss = 0.43072892\n",
      "Iteration 4, loss = 0.31320697\n",
      "Iteration 5, loss = 0.24370407\n",
      "Iteration 6, loss = 0.20546593\n",
      "Iteration 7, loss = 0.17965084\n",
      "Iteration 8, loss = 0.15774829\n",
      "Iteration 9, loss = 0.14676477\n",
      "Iteration 10, loss = 0.13676108\n",
      "Iteration 11, loss = 0.12839992\n",
      "Iteration 12, loss = 0.11883341\n",
      "Iteration 13, loss = 0.11815275\n",
      "Iteration 14, loss = 0.11645560\n",
      "Iteration 15, loss = 0.10581313\n",
      "Iteration 16, loss = 0.11266290\n",
      "Iteration 17, loss = 0.10617052\n",
      "Iteration 18, loss = 0.09498615\n",
      "Iteration 19, loss = 0.08960112\n",
      "Iteration 20, loss = 0.09568943\n",
      "Iteration 21, loss = 0.10009064\n",
      "Iteration 22, loss = 0.08555441\n",
      "Iteration 23, loss = 0.08978295\n",
      "Iteration 24, loss = 0.08333235\n",
      "Iteration 25, loss = 0.07277445\n",
      "Iteration 26, loss = 0.07625730\n",
      "Iteration 27, loss = 0.06824298\n",
      "Iteration 28, loss = 0.07138133\n",
      "Iteration 29, loss = 0.07166007\n",
      "Iteration 30, loss = 0.07063943\n",
      "Iteration 31, loss = 0.07176752\n",
      "Iteration 32, loss = 0.06821951\n",
      "Iteration 33, loss = 0.06847380\n",
      "Iteration 34, loss = 0.05724256\n",
      "Iteration 35, loss = 0.05470466\n",
      "Iteration 36, loss = 0.05854142\n",
      "Iteration 37, loss = 0.06081204\n",
      "Iteration 38, loss = 0.05859764\n",
      "Iteration 39, loss = 0.05837904\n",
      "Iteration 40, loss = 0.05753611\n",
      "Iteration 41, loss = 0.05090707\n",
      "Iteration 42, loss = 0.05095386\n",
      "Iteration 43, loss = 0.05046759\n",
      "Iteration 44, loss = 0.04476635\n",
      "Iteration 45, loss = 0.05265086\n",
      "Iteration 46, loss = 0.04758385\n",
      "Iteration 47, loss = 0.04808144\n",
      "Iteration 48, loss = 0.04975192\n",
      "Iteration 49, loss = 0.05150283\n",
      "Iteration 50, loss = 0.04931781\n",
      "Iteration 51, loss = 0.04228939\n",
      "Iteration 52, loss = 0.03872418\n",
      "Iteration 53, loss = 0.05037119\n",
      "Iteration 54, loss = 0.04580408\n",
      "Iteration 55, loss = 0.04106238\n",
      "Iteration 56, loss = 0.04761140\n",
      "Iteration 57, loss = 0.05037702\n",
      "Iteration 58, loss = 0.04226868\n",
      "Iteration 59, loss = 0.04776270\n",
      "Iteration 60, loss = 0.03404950\n",
      "Iteration 61, loss = 0.04784715\n",
      "Iteration 62, loss = 0.04494224\n",
      "Iteration 63, loss = 0.04384644\n",
      "Iteration 64, loss = 0.04349660\n",
      "Iteration 65, loss = 0.04103016\n",
      "Iteration 66, loss = 0.04169102\n",
      "Iteration 67, loss = 0.03829446\n",
      "Iteration 68, loss = 0.03494162\n",
      "Iteration 69, loss = 0.03417759\n",
      "Iteration 70, loss = 0.03665181\n",
      "Iteration 71, loss = 0.03868207\n",
      "Training loss did not improve more than tol=0.000100 for 10 consecutive epochs. Stopping.\n"
     ]
    }
   ],
   "source": [
    "from sklearn.neural_network import MLPClassifier #импортируем модуль НЕЙРОННОЙ СЕТИ\n",
    "mlp_classifier = MLPClassifier(verbose = True) # включаем режим пояснения операций во время тренировки модели\n",
    "mlp_classifier = mlp_classifier.fit(train_values, train_label)"
   ]
  },
  {
   "cell_type": "code",
   "execution_count": 9,
   "metadata": {},
   "outputs": [
    {
     "name": "stdout",
     "output_type": "stream",
     "text": [
      "На рисунке представлена цифра 9\n"
     ]
    },
    {
     "data": {
      "text/plain": [
       "array([9], dtype=int64)"
      ]
     },
     "execution_count": 9,
     "metadata": {},
     "output_type": "execute_result"
    },
    {
     "data": {
      "image/png": "[encoded data removed]",
      "text/plain": [
       "<Figure size 432x288 with 1 Axes>"
      ]
     },
     "metadata": {
      "needs_background": "light"
     },
     "output_type": "display_data"
    }
   ],
   "source": [
    "test_id = 125 #любой номер числа, которое хотим проверить\n",
    "\n",
    "plt.imshow(test_values[test_id, :].reshape(28,28), cmap= \"Greys\")\n",
    "print(\"На рисунке представлена цифра {}\".format(test_label[test_id]))\n",
    "\n",
    "mlp_classifier.predict(test_values[test_id, :].reshape(1, 784)) #обученная модель НЕЙРОННОЙ СЕТИ определяет число по картинке"
   ]
  },
  {
   "cell_type": "code",
   "execution_count": 10,
   "metadata": {},
   "outputs": [
    {
     "data": {
      "text/plain": [
       "0.9632"
      ]
     },
     "execution_count": 10,
     "metadata": {},
     "output_type": "execute_result"
    }
   ],
   "source": [
    "mlp_predictions = mlp_classifier.predict(test_values) #собираем ВСЕ предикты по нашей тестовой матрице\n",
    "accuracy_score(test_label, mlp_predictions) #оцениваем точность нашей НЕЙРОННОЙ СЕТИ"
   ]
  },
  {
   "cell_type": "code",
   "execution_count": 14,
   "metadata": {},
   "outputs": [
    {
     "data": {
      "text/html": [
       "<iframe width=\"560\" height=\"315\" src=\"https://www.youtube.com/watch?v=zqcIjDLxZIM\" frameboarder=\"0\" allowfullscreen></iframe>\n"
      ],
      "text/plain": [
       "<IPython.core.display.HTML object>"
      ]
     },
     "metadata": {},
     "output_type": "display_data"
    }
   ],
   "source": [
    "%%HTML\n",
    "<iframe width=\"560\" height=\"315\" src=\"https://www.youtube.com/watch?v=zqcIjDLxZIM\" frameboarder=\"0\" allowfullscreen></iframe>"
   ]
  },
  {
   "cell_type": "code",
   "execution_count": null,
   "metadata": {},
   "outputs": [],
   "source": []
  }
 ],
 "metadata": {
  "kernelspec": {
   "display_name": "Python 3",
   "language": "python",
   "name": "python3"
  },
  "language_info": {
   "codemirror_mode": {
    "name": "ipython",
    "version": 3
   },
   "file_extension": ".py",
   "mimetype": "text/x-python",
   "name": "python",
   "nbconvert_exporter": "python",
   "pygments_lexer": "ipython3",
   "version": "3.7.6"
  }
 },
 "nbformat": 4,
 "nbformat_minor": 4
}
